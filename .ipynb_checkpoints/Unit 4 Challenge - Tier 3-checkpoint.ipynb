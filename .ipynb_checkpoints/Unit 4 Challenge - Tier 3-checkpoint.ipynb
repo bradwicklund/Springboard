{
 "cells": [
  {
   "cell_type": "markdown",
   "metadata": {
    "colab_type": "text",
    "id": "Tia3MP1SJpgj"
   },
   "source": [
    "# Springboard Data Science Career Track Unit 4 Challenge - Tier 3 Complete\n",
    "\n",
    "## Objectives\n",
    "Hey! Great job getting through those challenging DataCamp courses. You're learning a lot in a short span of time. \n",
    "\n",
    "In this notebook, you're going to apply the skills you've been learning, bridging the gap between the controlled environment of DataCamp and the *slightly* messier work that data scientists do with actual datasets!\n",
    "\n",
    "Here’s the mystery we’re going to solve: ***which boroughs of London have seen the greatest increase in housing prices, on average, over the last two decades?***\n",
    "\n",
    "\n",
    "A borough is just a fancy word for district. You may be familiar with the five boroughs of New York… well, there are 32 boroughs within Greater London [(here's some info for the curious)](https://en.wikipedia.org/wiki/London_boroughs). Some of them are more desirable areas to live in, and the data will reflect that with a greater rise in housing prices.\n",
    "\n",
    "***This is the Tier 3 notebook, which means it's not filled in at all: we'll just give you the skeleton of a project, the brief and the data. It's up to you to play around with it and see what you can find out! Good luck! If you struggle, feel free to look at easier tiers for help; but try to dip in and out of them, as the more independent work you do, the better it is for your learning!***\n",
    "\n",
    "This challenge will make use of only what you learned in the following DataCamp courses: \n",
    "- Prework courses (Introduction to Python for Data Science, Intermediate Python for Data Science)\n",
    "- Data Types for Data Science\n",
    "- Python Data Science Toolbox (Part One) \n",
    "- pandas Foundations\n",
    "- Manipulating DataFrames with pandas\n",
    "- Merging DataFrames with pandas\n",
    "\n",
    "Of the tools, techniques and concepts in the above DataCamp courses, this challenge should require the application of the following: \n",
    "- **pandas**\n",
    "    - **data ingestion and inspection** (pandas Foundations, Module One) \n",
    "    - **exploratory data analysis** (pandas Foundations, Module Two)\n",
    "    - **tidying and cleaning** (Manipulating DataFrames with pandas, Module Three) \n",
    "    - **transforming DataFrames** (Manipulating DataFrames with pandas, Module One)\n",
    "    - **subsetting DataFrames with lists** (Manipulating DataFrames with pandas, Module One) \n",
    "    - **filtering DataFrames** (Manipulating DataFrames with pandas, Module One) \n",
    "    - **grouping data** (Manipulating DataFrames with pandas, Module Four) \n",
    "    - **melting data** (Manipulating DataFrames with pandas, Module Three) \n",
    "    - **advanced indexing** (Manipulating DataFrames with pandas, Module Four) \n",
    "- **matplotlib** (Intermediate Python for Data Science, Module One)\n",
    "- **fundamental data types** (Data Types for Data Science, Module One) \n",
    "- **dictionaries** (Intermediate Python for Data Science, Module Two)\n",
    "- **handling dates and times** (Data Types for Data Science, Module Four)\n",
    "- **function definition** (Python Data Science Toolbox - Part One, Module One)\n",
    "- **default arguments, variable length, and scope** (Python Data Science Toolbox - Part One, Module Two) \n",
    "- **lambda functions and error handling** (Python Data Science Toolbox - Part One, Module Four) "
   ]
  },
  {
   "cell_type": "markdown",
   "metadata": {
    "colab_type": "text",
    "id": "Ipgd2nV8Jpgl"
   },
   "source": [
    "## The Data Science Pipeline\n",
    "\n",
    "This is Tier Three, so we'll get you started. But after that, it's all in your hands! When you feel done with your investigations, look back over what you've accomplished, and prepare a quick presentation of your findings for the next mentor meeting. \n",
    "\n",
    "Data Science is magical. In this case study, you'll get to apply some complex machine learning algorithms. But as  [David Spiegelhalter](https://www.youtube.com/watch?v=oUs1uvsz0Ok) reminds us, there is no substitute for simply **taking a really, really good look at the data.** Sometimes, this is all we need to answer our question.\n",
    "\n",
    "Data Science projects generally adhere to the four stages of Data Science Pipeline:\n",
    "1. Sourcing and loading \n",
    "2. Cleaning, transforming, and visualizing \n",
    "3. Modeling \n",
    "4. Evaluating and concluding \n"
   ]
  },
  {
   "cell_type": "markdown",
   "metadata": {
    "colab_type": "text",
    "id": "zswDqbefJpgm"
   },
   "source": [
    "### 1. Sourcing and Loading \n",
    "\n",
    "Any Data Science project kicks off by importing  ***pandas***. The documentation of this wonderful library can be found [here](https://pandas.pydata.org/). As you've seen, pandas is conveniently connected to the [Numpy](http://www.numpy.org/) and [Matplotlib](https://matplotlib.org/) libraries. \n",
    "\n",
    "***Hint:*** This part of the data science pipeline will test those skills you acquired in the pandas Foundations course, Module One. "
   ]
  },
  {
   "cell_type": "markdown",
   "metadata": {
    "colab_type": "text",
    "id": "aEau5nEvJpgm"
   },
   "source": [
    "#### 1.1. Importing Libraries"
   ]
  },
  {
   "cell_type": "code",
   "execution_count": 4,
   "metadata": {
    "colab": {},
    "colab_type": "code",
    "id": "7Bt_Q_oPJpgn"
   },
   "outputs": [],
   "source": [
    "# Let's import the pandas, numpy libraries as pd, and np respectively. \n",
    "import pandas as pd\n",
    "import numpy as np\n",
    "\n",
    "# Load the pyplot collection of functions from matplotlib, as plt \n",
    "import matplotlib.pyplot as plt"
   ]
  },
  {
   "cell_type": "markdown",
   "metadata": {
    "colab_type": "text",
    "id": "koUrawxsJpgq"
   },
   "source": [
    "#### 1.2.  Loading the data\n",
    "Your data comes from the [London Datastore](https://data.london.gov.uk/): a free, open-source data-sharing portal for London-oriented datasets. "
   ]
  },
  {
   "cell_type": "code",
   "execution_count": 6,
   "metadata": {
    "colab": {},
    "colab_type": "code",
    "id": "AiLiD4v3Jpgr"
   },
   "outputs": [],
   "source": [
    "# First, make a variable called url_LondonHousePrices, and assign it the following link, enclosed in quotation-marks as a string:\n",
    "# https://data.london.gov.uk/download/uk-house-price-index/70ac0766-8902-4eb5-aab5-01951aaed773/UK%20House%20price%20index.xls\n",
    "\n",
    "url_LondonHousePrices = \"https://data.london.gov.uk/download/uk-house-price-index/70ac0766-8902-4eb5-aab5-01951aaed773/UK%20House%20price%20index.xls\"\n",
    "\n",
    "# The dataset we're interested in contains the Average prices of the houses, and is actually on a particular sheet of the Excel file. \n",
    "# As a result, we need to specify the sheet name in the read_excel() method.\n",
    "# Put this data into a variable called properties.  \n",
    "properties = pd.read_excel(url_LondonHousePrices, sheet_name='Average price', index_col= None)"
   ]
  },
  {
   "cell_type": "markdown",
   "metadata": {
    "colab_type": "text",
    "id": "POukEJXgJpgu"
   },
   "source": [
    "### 2. Cleaning, transforming, and visualizing\n",
    "This second stage is arguably the most important part of any Data Science project. The first thing to do is take a proper look at the data. Cleaning forms the majority of this stage, and can be done both before or after Transformation.\n",
    "\n",
    "The end goal of data cleaning is to have tidy data. When data is tidy: \n",
    "\n",
    "1. Each variable has a column.\n",
    "2. Each observation forms a row.\n",
    "\n",
    "Keep the end goal in mind as you move through this process, every step will take you closer. \n",
    "\n",
    "\n",
    "\n",
    "***Hint:*** This part of the data science pipeline should test those skills you acquired in: \n",
    "- Intermediate Python for data science, all modules.\n",
    "- pandas Foundations, all modules. \n",
    "- Manipulating DataFrames with pandas, all modules.\n",
    "- Data Types for Data Science, Module Four.\n",
    "- Python Data Science Toolbox - Part One, all modules"
   ]
  },
  {
   "cell_type": "markdown",
   "metadata": {
    "colab_type": "text",
    "id": "Te0Q548tnzZa"
   },
   "source": [
    "**2.1. Exploring your data** \n",
    "\n",
    "Think about your pandas functions for checking out a dataframe. "
   ]
  },
  {
   "cell_type": "code",
   "execution_count": 8,
   "metadata": {
    "colab": {},
    "colab_type": "code",
    "id": "Rxirxw_qoAJa"
   },
   "outputs": [
    {
     "name": "stdout",
     "output_type": "stream",
     "text": [
      "  Unnamed: 0 City of London Barking & Dagenham       Barnet       Bexley  \\\n",
      "0        NaT      E09000001          E09000002    E09000003    E09000004   \n",
      "1 1995-01-01    91448.98487         50460.2266  93284.51832  64958.09036   \n",
      "2 1995-02-01    82202.77314        51085.77983  93190.16963  64787.92069   \n",
      "3 1995-03-01    79120.70256        51268.96956  92247.52435  64367.49344   \n",
      "4 1995-04-01    77101.20804        53133.50526  90762.87492  64277.66881   \n",
      "\n",
      "         Brent      Bromley       Camden      Croydon       Ealing  ...  \\\n",
      "0    E09000005    E09000006    E09000007    E09000008    E09000009  ...   \n",
      "1  71306.56698  81671.47692  120932.8881  69158.16225  79885.89069  ...   \n",
      "2  72022.26197  81657.55944  119508.8622  68951.09542  80897.06551  ...   \n",
      "3  72015.76274  81449.31143  120282.2131  68712.44341  81379.86288  ...   \n",
      "4  72965.63094  81124.41227   120097.899  68610.04641  82188.90498  ...   \n",
      "\n",
      "    NORTH WEST YORKS & THE HUMBER EAST MIDLANDS WEST MIDLANDS EAST OF ENGLAND  \\\n",
      "0    E12000002          E12000003     E12000004     E12000005       E12000006   \n",
      "1  43958.48001        44803.42878   45544.52227   48527.52339      56701.5961   \n",
      "2  43925.42289        44528.80721   46051.57066   49341.29029     56593.59475   \n",
      "3   44434.8681        45200.46775   45383.82395   49442.17973     56171.18278   \n",
      "4   44267.7796        45614.34341   46124.23045   49455.93299     56567.89582   \n",
      "\n",
      "        LONDON   SOUTH EAST   SOUTH WEST Unnamed: 47      England  \n",
      "0    E12000007    E12000008    E12000009         NaN    E92000001  \n",
      "1  74435.76052  64018.87894   54705.1579         NaN  53202.77128  \n",
      "2  72777.93709  63715.02399  54356.14843         NaN   53096.1549  \n",
      "3  73896.84204  64113.60858  53583.07667         NaN   53201.2843  \n",
      "4  74455.28754  64623.22395  54786.01938         NaN   53590.8548  \n",
      "\n",
      "[5 rows x 49 columns]\n"
     ]
    }
   ],
   "source": [
    "print(properties.head())"
   ]
  },
  {
   "cell_type": "markdown",
   "metadata": {
    "colab_type": "text",
    "id": "tE9Sqt9-oAta"
   },
   "source": [
    "**2.2. Cleaning the data**\n",
    "\n",
    "You might find you need to transpose your dataframe, check out what its row indexes are, and reset the index. You  also might find you need to assign the values of the first row to your column headings  . (Hint: recall the .columns feature of DataFrames, as well as the iloc[] method).\n",
    "\n",
    "Don't be afraid to use StackOverflow for help  with this."
   ]
  },
  {
   "cell_type": "code",
   "execution_count": 10,
   "metadata": {
    "colab": {},
    "colab_type": "code",
    "id": "cdAu1A3YoH_r"
   },
   "outputs": [
    {
     "name": "stdout",
     "output_type": "stream",
     "text": [
      "           Unnamed: 0        NaT 1995-01-01 00:00:00 1995-02-01 00:00:00  \\\n",
      "1  Barking & Dagenham  E09000002          50460.2266         51085.77983   \n",
      "2              Barnet  E09000003         93284.51832         93190.16963   \n",
      "3              Bexley  E09000004         64958.09036         64787.92069   \n",
      "4               Brent  E09000005         71306.56698         72022.26197   \n",
      "5             Bromley  E09000006         81671.47692         81657.55944   \n",
      "\n",
      "  1995-03-01 00:00:00 1995-04-01 00:00:00 1995-05-01 00:00:00  \\\n",
      "1         51268.96956         53133.50526         53042.24852   \n",
      "2         92247.52435         90762.87492         90258.00033   \n",
      "3         64367.49344         64277.66881         63997.13588   \n",
      "4         72015.76274         72965.63094         73704.04743   \n",
      "5         81449.31143         81124.41227         81542.61561   \n",
      "\n",
      "  1995-06-01 00:00:00 1995-07-01 00:00:00 1995-08-01 00:00:00  ...  \\\n",
      "1         53700.34831         52113.12157         52232.19868  ...   \n",
      "2         90107.23471         91441.24768         92361.31512  ...   \n",
      "3         64252.32335         63722.70055         64432.60005  ...   \n",
      "4         74310.48167         74127.03788          73547.0411  ...   \n",
      "5         82382.83435         82898.52264         82054.37156  ...   \n",
      "\n",
      "  2024-02-01 00:00:00 2024-03-01 00:00:00 2024-04-01 00:00:00  \\\n",
      "1              328266              333303              335559   \n",
      "2              563115              569976              573051   \n",
      "3              394741              395633              396584   \n",
      "4              524230              515007              502686   \n",
      "5              486510              479667              474657   \n",
      "\n",
      "  2024-05-01 00:00:00 2024-06-01 00:00:00 2024-07-01 00:00:00  \\\n",
      "1              335794              332826              340826   \n",
      "2              580130              584621              590027   \n",
      "3              396070              400617              401848   \n",
      "4              503373              529306              529279   \n",
      "5              480530              488215              498796   \n",
      "\n",
      "  2024-08-01 00:00:00 2024-09-01 00:00:00 2024-10-01 00:00:00  \\\n",
      "1              338083              340295              340932   \n",
      "2              596078              592861              589938   \n",
      "3              406623              408441              408837   \n",
      "4              545384              544571              553641   \n",
      "5              501619              505545              504982   \n",
      "\n",
      "  2024-11-01 00:00:00  \n",
      "1              343528  \n",
      "2              592678  \n",
      "3              406441  \n",
      "4              545671  \n",
      "5              508954  \n",
      "\n",
      "[5 rows x 361 columns]\n"
     ]
    }
   ],
   "source": [
    "properties = properties.loc[0:, : 'Westminster']\n",
    "properties = properties.drop('City of London', axis=1)\n",
    "properties = properties.transpose()\n",
    "properties = properties.reset_index()\n",
    "headers = properties.iloc[0].values\n",
    "properties.columns = headers\n",
    "properties.drop(index=0, axis=0, inplace=True)\n",
    "print(properties.head())"
   ]
  },
  {
   "cell_type": "markdown",
   "metadata": {
    "colab_type": "text",
    "id": "o1uLbJAsoIjK"
   },
   "source": [
    "**2.3. Cleaning the data (part 2)**\n",
    "\n",
    "You might we have to **rename** a couple columns. How do you do this? The clue's pretty bold..."
   ]
  },
  {
   "cell_type": "code",
   "execution_count": 12,
   "metadata": {
    "colab": {},
    "colab_type": "code",
    "id": "GKkmn1AnoVZS"
   },
   "outputs": [
    {
     "name": "stdout",
     "output_type": "stream",
     "text": [
      "             Boroughs  Postcodes 1995-01-01 00:00:00 1995-02-01 00:00:00  \\\n",
      "1  Barking & Dagenham  E09000002          50460.2266         51085.77983   \n",
      "2              Barnet  E09000003         93284.51832         93190.16963   \n",
      "3              Bexley  E09000004         64958.09036         64787.92069   \n",
      "4               Brent  E09000005         71306.56698         72022.26197   \n",
      "5             Bromley  E09000006         81671.47692         81657.55944   \n",
      "\n",
      "  1995-03-01 00:00:00 1995-04-01 00:00:00 1995-05-01 00:00:00  \\\n",
      "1         51268.96956         53133.50526         53042.24852   \n",
      "2         92247.52435         90762.87492         90258.00033   \n",
      "3         64367.49344         64277.66881         63997.13588   \n",
      "4         72015.76274         72965.63094         73704.04743   \n",
      "5         81449.31143         81124.41227         81542.61561   \n",
      "\n",
      "  1995-06-01 00:00:00 1995-07-01 00:00:00 1995-08-01 00:00:00  ...  \\\n",
      "1         53700.34831         52113.12157         52232.19868  ...   \n",
      "2         90107.23471         91441.24768         92361.31512  ...   \n",
      "3         64252.32335         63722.70055         64432.60005  ...   \n",
      "4         74310.48167         74127.03788          73547.0411  ...   \n",
      "5         82382.83435         82898.52264         82054.37156  ...   \n",
      "\n",
      "  2024-02-01 00:00:00 2024-03-01 00:00:00 2024-04-01 00:00:00  \\\n",
      "1              328266              333303              335559   \n",
      "2              563115              569976              573051   \n",
      "3              394741              395633              396584   \n",
      "4              524230              515007              502686   \n",
      "5              486510              479667              474657   \n",
      "\n",
      "  2024-05-01 00:00:00 2024-06-01 00:00:00 2024-07-01 00:00:00  \\\n",
      "1              335794              332826              340826   \n",
      "2              580130              584621              590027   \n",
      "3              396070              400617              401848   \n",
      "4              503373              529306              529279   \n",
      "5              480530              488215              498796   \n",
      "\n",
      "  2024-08-01 00:00:00 2024-09-01 00:00:00 2024-10-01 00:00:00  \\\n",
      "1              338083              340295              340932   \n",
      "2              596078              592861              589938   \n",
      "3              406623              408441              408837   \n",
      "4              545384              544571              553641   \n",
      "5              501619              505545              504982   \n",
      "\n",
      "  2024-11-01 00:00:00  \n",
      "1              343528  \n",
      "2              592678  \n",
      "3              406441  \n",
      "4              545671  \n",
      "5              508954  \n",
      "\n",
      "[5 rows x 361 columns]\n"
     ]
    }
   ],
   "source": [
    "properties.rename(columns={'Unnamed: 0': 'Boroughs', pd.NaT: \"Postcodes\"}, inplace=True)\n",
    "print(properties.head())"
   ]
  },
  {
   "cell_type": "markdown",
   "metadata": {
    "colab_type": "text",
    "id": "jy8BzXHmoWEw"
   },
   "source": [
    "**2.4.Transforming the data**\n",
    "\n",
    "Remember what Wes McKinney said about tidy data? \n",
    "\n",
    "You might need to **melt** your DataFrame here. "
   ]
  },
  {
   "cell_type": "code",
   "execution_count": 40,
   "metadata": {
    "colab": {},
    "colab_type": "code",
    "id": "S2wM0qLuo2Zt"
   },
   "outputs": [
    {
     "name": "stdout",
     "output_type": "stream",
     "text": [
      "             Boroughs  Postcodes                 Date Average_Price\n",
      "0  Barking & Dagenham  E09000002  1995-01-01 00:00:00    50460.2266\n",
      "1              Barnet  E09000003  1995-01-01 00:00:00   93284.51832\n",
      "2              Bexley  E09000004  1995-01-01 00:00:00   64958.09036\n",
      "3               Brent  E09000005  1995-01-01 00:00:00   71306.56698\n",
      "4             Bromley  E09000006  1995-01-01 00:00:00   81671.47692\n"
     ]
    }
   ],
   "source": [
    "properties_tall = properties.melt(id_vars=['Boroughs', 'Postcodes'], var_name='Date', value_name='Average_Price')\n",
    "print(properties_tall.head())"
   ]
  },
  {
   "cell_type": "markdown",
   "metadata": {
    "colab_type": "text",
    "id": "7kIsgAo7o3mf"
   },
   "source": [
    "Remember to make sure your column data types are all correct. Average prices, for example, should be floating point numbers... "
   ]
  },
  {
   "cell_type": "code",
   "execution_count": 42,
   "metadata": {
    "colab": {},
    "colab_type": "code",
    "id": "ZcR4IHbcpOaq"
   },
   "outputs": [
    {
     "name": "stdout",
     "output_type": "stream",
     "text": [
      "             Boroughs  Postcodes        Date  Average_Price\n",
      "0  Barking & Dagenham  E09000002  1995-01-01    50460.22660\n",
      "1              Barnet  E09000003  1995-01-01    93284.51832\n",
      "2              Bexley  E09000004  1995-01-01    64958.09036\n",
      "3               Brent  E09000005  1995-01-01    71306.56698\n",
      "4             Bromley  E09000006  1995-01-01    81671.47692\n"
     ]
    }
   ],
   "source": [
    "properties_tall['Date'] = pd.to_datetime(properties_tall['Date']).dt.date\n",
    "properties_tall['Average_Price'] = properties_tall['Average_Price'].astype(float)\n",
    "print(properties_tall.head())"
   ]
  },
  {
   "cell_type": "markdown",
   "metadata": {
    "colab_type": "text",
    "id": "knLUXHLypOtw"
   },
   "source": [
    "**2.5. Cleaning the data (part 3)**\n",
    "\n",
    "Do we have an equal number of observations in the ID, Average Price, Month, and London Borough columns? Remember that there are only 32 London Boroughs. How many entries do you have in that column? \n",
    "\n",
    "Check out the contents of the London Borough column, and if you find null values, get rid of them however you see fit. "
   ]
  },
  {
   "cell_type": "code",
   "execution_count": 44,
   "metadata": {
    "colab": {},
    "colab_type": "code",
    "id": "BnvTW5a3p0fC"
   },
   "outputs": [
    {
     "name": "stdout",
     "output_type": "stream",
     "text": [
      "0       Barking & Dagenham\n",
      "1                   Barnet\n",
      "2                   Bexley\n",
      "3                    Brent\n",
      "4                  Bromley\n",
      "5                   Camden\n",
      "6                  Croydon\n",
      "7                   Ealing\n",
      "8                  Enfield\n",
      "9                Greenwich\n",
      "10                 Hackney\n",
      "11    Hammersmith & Fulham\n",
      "12                Haringey\n",
      "13                  Harrow\n",
      "14                Havering\n",
      "15              Hillingdon\n",
      "16                Hounslow\n",
      "17               Islington\n",
      "18    Kensington & Chelsea\n",
      "19    Kingston upon Thames\n",
      "20                 Lambeth\n",
      "21                Lewisham\n",
      "22                  Merton\n",
      "23                  Newham\n",
      "24               Redbridge\n",
      "25    Richmond upon Thames\n",
      "26               Southwark\n",
      "27                  Sutton\n",
      "28           Tower Hamlets\n",
      "29          Waltham Forest\n",
      "30              Wandsworth\n",
      "31             Westminster\n",
      "Name: Boroughs, dtype: object\n",
      "0     E09000002\n",
      "1     E09000003\n",
      "2     E09000004\n",
      "3     E09000005\n",
      "4     E09000006\n",
      "5     E09000007\n",
      "6     E09000008\n",
      "7     E09000009\n",
      "8     E09000010\n",
      "9     E09000011\n",
      "10    E09000012\n",
      "11    E09000013\n",
      "12    E09000014\n",
      "13    E09000015\n",
      "14    E09000016\n",
      "15    E09000017\n",
      "16    E09000018\n",
      "17    E09000019\n",
      "18    E09000020\n",
      "19    E09000021\n",
      "20    E09000022\n",
      "21    E09000023\n",
      "22    E09000024\n",
      "23    E09000025\n",
      "24    E09000026\n",
      "25    E09000027\n",
      "26    E09000028\n",
      "27    E09000029\n",
      "28    E09000030\n",
      "29    E09000031\n",
      "30    E09000032\n",
      "31    E09000033\n",
      "Name: Postcodes, dtype: object\n"
     ]
    }
   ],
   "source": [
    "properties_tall = properties_tall.dropna(how='any', axis=0)\n",
    "properties.Boroughs.nunique()\n",
    "unique_values = properties_tall['Boroughs'].drop_duplicates()\n",
    "unique_postcodes = properties_tall['Postcodes'].drop_duplicates()\n",
    "print(unique_values)\n",
    "print(unique_postcodes)"
   ]
  },
  {
   "cell_type": "markdown",
   "metadata": {
    "colab_type": "text",
    "id": "PGEx6mJsp6dG"
   },
   "source": [
    "**2.6. Visualizing the data**\n",
    "\n",
    "To visualize the data, why not subset on a particular London Borough? Maybe do a line plot of Month against Average Price?"
   ]
  },
  {
   "cell_type": "code",
   "execution_count": 46,
   "metadata": {
    "colab": {},
    "colab_type": "code",
    "id": "nAg5pT9cqHAR"
   },
   "outputs": [
    {
     "data": {
      "text/plain": [
       "<Axes: xlabel='Date'>"
      ]
     },
     "execution_count": 46,
     "metadata": {},
     "output_type": "execute_result"
    },
    {
     "data": {
      "image/png": "[encoded data removed]",
      "text/plain": [
       "<Figure size 640x480 with 1 Axes>"
      ]
     },
     "metadata": {},
     "output_type": "display_data"
    }
   ],
   "source": [
    "london_prices = properties_tall[properties_tall[\"Boroughs\"] == \"Barking & Dagenham\"]\n",
    "london_prices.plot(x=\"Date\", y=\"Average_Price\")"
   ]
  },
  {
   "cell_type": "markdown",
   "metadata": {
    "colab_type": "text",
    "id": "aWTPqSJeqHnC"
   },
   "source": [
    "To limit the number of data points you have, you might want to extract the year from every month value your *Month* column. \n",
    "\n",
    "To this end, you *could* apply a ***lambda function***. Your logic could work as follows:\n",
    "1. look through the `Month` column\n",
    "2. extract the year from each individual value in that column \n",
    "3. store that corresponding year as separate column. \n",
    "\n",
    "Whether you go ahead with this is up to you. Just so long as you answer our initial brief: which boroughs of London have seen the greatest house price increase, on average, over the past two decades? "
   ]
  },
  {
   "cell_type": "code",
   "execution_count": 48,
   "metadata": {
    "colab": {},
    "colab_type": "code",
    "id": "e0DF92cyqnu8"
   },
   "outputs": [
    {
     "data": {
      "text/html": [
       "<div>\n",
       "<style scoped>\n",
       "    .dataframe tbody tr th:only-of-type {\n",
       "        vertical-align: middle;\n",
       "    }\n",
       "\n",
       "    .dataframe tbody tr th {\n",
       "        vertical-align: top;\n",
       "    }\n",
       "\n",
       "    .dataframe thead th {\n",
       "        text-align: right;\n",
       "    }\n",
       "</style>\n",
       "<table border=\"1\" class=\"dataframe\">\n",
       "  <thead>\n",
       "    <tr style=\"text-align: right;\">\n",
       "      <th></th>\n",
       "      <th>Boroughs</th>\n",
       "      <th>Year</th>\n",
       "      <th>Average_Price</th>\n",
       "    </tr>\n",
       "  </thead>\n",
       "  <tbody>\n",
       "    <tr>\n",
       "      <th>647</th>\n",
       "      <td>Lewisham</td>\n",
       "      <td>2012</td>\n",
       "      <td>240571.973217</td>\n",
       "    </tr>\n",
       "    <tr>\n",
       "      <th>759</th>\n",
       "      <td>Richmond upon Thames</td>\n",
       "      <td>2004</td>\n",
       "      <td>316540.906067</td>\n",
       "    </tr>\n",
       "    <tr>\n",
       "      <th>389</th>\n",
       "      <td>Haringey</td>\n",
       "      <td>2024</td>\n",
       "      <td>570242.090909</td>\n",
       "    </tr>\n",
       "    <tr>\n",
       "      <th>112</th>\n",
       "      <td>Brent</td>\n",
       "      <td>2017</td>\n",
       "      <td>487703.754375</td>\n",
       "    </tr>\n",
       "    <tr>\n",
       "      <th>591</th>\n",
       "      <td>Kingston upon Thames</td>\n",
       "      <td>2016</td>\n",
       "      <td>483333.446750</td>\n",
       "    </tr>\n",
       "    <tr>\n",
       "      <th>705</th>\n",
       "      <td>Newham</td>\n",
       "      <td>2010</td>\n",
       "      <td>204466.989842</td>\n",
       "    </tr>\n",
       "    <tr>\n",
       "      <th>117</th>\n",
       "      <td>Brent</td>\n",
       "      <td>2022</td>\n",
       "      <td>521958.583333</td>\n",
       "    </tr>\n",
       "    <tr>\n",
       "      <th>545</th>\n",
       "      <td>Kensington &amp; Chelsea</td>\n",
       "      <td>2000</td>\n",
       "      <td>376802.247850</td>\n",
       "    </tr>\n",
       "    <tr>\n",
       "      <th>480</th>\n",
       "      <td>Hounslow</td>\n",
       "      <td>1995</td>\n",
       "      <td>72941.170845</td>\n",
       "    </tr>\n",
       "    <tr>\n",
       "      <th>601</th>\n",
       "      <td>Lambeth</td>\n",
       "      <td>1996</td>\n",
       "      <td>72444.213648</td>\n",
       "    </tr>\n",
       "  </tbody>\n",
       "</table>\n",
       "</div>"
      ],
      "text/plain": [
       "                 Boroughs  Year  Average_Price\n",
       "647              Lewisham  2012  240571.973217\n",
       "759  Richmond upon Thames  2004  316540.906067\n",
       "389              Haringey  2024  570242.090909\n",
       "112                 Brent  2017  487703.754375\n",
       "591  Kingston upon Thames  2016  483333.446750\n",
       "705                Newham  2010  204466.989842\n",
       "117                 Brent  2022  521958.583333\n",
       "545  Kensington & Chelsea  2000  376802.247850\n",
       "480              Hounslow  1995   72941.170845\n",
       "601               Lambeth  1996   72444.213648"
      ]
     },
     "execution_count": 48,
     "metadata": {},
     "output_type": "execute_result"
    }
   ],
   "source": [
    "properties_tall['Date'] = pd.to_datetime(properties_tall['Date'])\n",
    "properties_tall['Year'] = properties_tall['Date'].dt.year\n",
    "properties_tall['Year'] = properties_tall['Year'].astype(int)\n",
    "bap = properties_tall.groupby(by=['Boroughs', 'Year']).mean('Average_Price')\n",
    "bap = bap.reset_index()\n",
    "bap.sample(10)"
   ]
  },
  {
   "cell_type": "markdown",
   "metadata": {
    "colab_type": "text",
    "id": "2knuTxAEqoJ4"
   },
   "source": [
    "**3. Modeling**\n",
    "\n",
    "Consider creating a function that will calculate a ratio of house prices, comparing the price of a house in 2018 to the price in 1998.\n",
    "\n",
    "Consider calling this function create_price_ratio.\n",
    "\n",
    "You'd want this function to:\n",
    "1. Take a filter of dfg, specifically where this filter constrains the London_Borough, as an argument. For example, one admissible argument should be: dfg[dfg['London_Borough']=='Camden'].\n",
    "2. Get the Average Price for that Borough, for the years 1998 and 2018.\n",
    "4. Calculate the ratio of the Average Price for 1998 divided by the Average Price for 2018.\n",
    "5. Return that ratio.\n",
    "\n",
    "Once you've written this function, you ultimately want to use it to iterate through all the unique London_Boroughs and work out the ratio capturing the difference of house prices between 1998 and 2018.\n",
    "\n",
    "Bear in mind: you don't have to write a function like this if you don't want to. If you can solve the brief otherwise, then great! \n",
    "\n",
    "***Hint***: This section should test the skills you acquired in:\n",
    "- Python Data Science Toolbox - Part One, all modules"
   ]
  },
  {
   "cell_type": "code",
   "execution_count": 138,
   "metadata": {
    "colab": {},
    "colab_type": "code",
    "id": "cKTyr437UgDa"
   },
   "outputs": [
    {
     "name": "stdout",
     "output_type": "stream",
     "text": [
      "{'Barking & Dagenham': 4.896427058975681, 'Barnet': 4.357783676819685, 'Bexley': 4.249834699867197, 'Brent': 4.89546308358166, 'Bromley': 4.094845613646759, 'Camden': 4.9340441155498205, 'Croydon': 4.200984673734846, 'Ealing': 4.3117723039863, 'Enfield': 4.2627483817748235, 'Greenwich': 4.763566039512672, 'Hackney': 6.19833625346378, 'Hammersmith & Fulham': 4.138939665327364, 'Haringey': 5.134552879755683, 'Harrow': 4.05915059005276, 'Havering': 4.325869023358387, 'Hillingdon': 4.200284169489838, 'Hounslow': 3.9770733399593667, 'Islington': 4.841877893323641, 'Kensington & Chelsea': 5.0821745438347845, 'Kingston upon Thames': 4.270037076553341, 'Lambeth': 4.9581945667801675, 'Lewisham': 5.447912042607786, 'Merton': 4.745151276122173, 'Newham': 5.307655931799601, 'Redbridge': 4.4701898316864215, 'Richmond upon Thames': 4.002759928862856, 'Southwark': 5.516371542388441, 'Sutton': 4.1188674603889845, 'Tower Hamlets': 4.626735488458662, 'Waltham Forest': 5.835127108868695, 'Wandsworth': 4.757574856149814, 'Westminster': 5.352731470079301}\n",
      "                Boroughs  Price Ratio\n",
      "10               Hackney     6.198336\n",
      "29        Waltham Forest     5.835127\n",
      "26             Southwark     5.516372\n",
      "21              Lewisham     5.447912\n",
      "31           Westminster     5.352731\n",
      "23                Newham     5.307656\n",
      "12              Haringey     5.134553\n",
      "18  Kensington & Chelsea     5.082175\n",
      "20               Lambeth     4.958195\n",
      "5                 Camden     4.934044\n"
     ]
    }
   ],
   "source": [
    "def calculate_price_ratio(d):\n",
    "    price1998 = bap.loc[(bap['Boroughs'] == d) & (bap['Year'] == 1998), 'Average_Price']\n",
    "    price2018 = bap.loc[(bap['Boroughs'] == d) & (bap['Year'] == 2018), 'Average_Price']\n",
    "\n",
    "    if price1998.empty or price2018.empty:\n",
    "        return None\n",
    "\n",
    "    return price2018.values[0] / price1998.values[0]\n",
    "\n",
    "final = {}\n",
    "\n",
    "for b in bap['Boroughs'].unique():\n",
    "    final[b] = calculate_price_ratio(b)\n",
    "print(final)\n",
    "\n",
    "df_final = pd.DataFrame(final, index=[0])\n",
    "df_final.head()\n",
    "df_final_tall = df_final.T\n",
    "df_final_tall = df_final_tall.reset_index()\n",
    "df_final_tall.head()\n",
    "\n",
    "df_final_tall.rename(columns={'index':'Boroughs', 0:'Price Ratio'}, inplace=True)\n",
    "df_final_tall.head()\n",
    "\n",
    "df_final_sorted = df_final_tall.sort_values(by='Price Ratio',ascending=False).head(15)\n",
    "print(df_final_sorted.head(10))"
   ]
  },
  {
   "cell_type": "markdown",
   "metadata": {
    "colab_type": "text",
    "id": "NzYUI7FxJpgv"
   },
   "source": [
    "### 4. Conclusion\n",
    "What can you conclude? Type out your conclusion below. \n",
    "\n",
    "Look back at your notebook. Think about how you might summarize what you have done, and prepare a quick presentation on it to your mentor at your next meeting. \n",
    "\n",
    "We hope you enjoyed this practical project. It should have consolidated your data hygiene and pandas skills by looking at a real-world problem involving just the kind of dataset you might encounter as a budding data scientist. Congratulations, and looking forward to seeing you at the next step in the course! "
   ]
  },
  {
   "cell_type": "markdown",
   "metadata": {},
   "source": [
    "The final conclusion of this challenge is that Hackney is the London borough with the highest price ratio from 1998 to 2018.\n",
    "\n",
    "This conclusion was made by taking the initial data provided in an xls file, examining the data to determinte it's formatting and attributes, then cleaning the data by removing extraneous and null values.  Columns and indices were reformatted for ease of use and the data frame was melted in order to make it easier to work with the data.\n",
    "\n",
    "Once the data was properly cleaned, I was able to visualize a subset of data in order to understand the overall trends.  I then grouped the data and calculated average prices by year in order to further process the data in order to answer the initial question.\n",
    "\n",
    "Next, I created a function that would all me to iterate over the data and calculate price ratios for each borough over the desired time frame from 1998 to 2018.  This data was stored in a dictionary and then converted back into a data frame in order to anyalze the final results by sorting the data in descending order."
   ]
  }
 ],
 "metadata": {
  "colab": {
   "collapsed_sections": [],
   "name": "Springboard Data Science Career Track Unit 4 Challenge - Tier 3 Complete .ipynb",
   "provenance": []
  },
  "kernelspec": {
   "display_name": "Python [conda env:base] *",
   "language": "python",
   "name": "conda-base-py"
  },
  "language_info": {
   "codemirror_mode": {
    "name": "ipython",
    "version": 3
   },
   "file_extension": ".py",
   "mimetype": "text/x-python",
   "name": "python",
   "nbconvert_exporter": "python",
   "pygments_lexer": "ipython3",
   "version": "3.12.7"
  }
 },
 "nbformat": 4,
 "nbformat_minor": 4
}
