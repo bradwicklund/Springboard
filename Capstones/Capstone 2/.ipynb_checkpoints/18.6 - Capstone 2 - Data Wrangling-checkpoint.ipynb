{
 "cells": [
  {
   "cell_type": "markdown",
   "id": "86b621ec-241b-4940-8e5f-278b88a3db47",
   "metadata": {},
   "source": [
    "# Capstone Two: Data Wrangling"
   ]
  },
  {
   "cell_type": "markdown",
   "id": "902849ce-1b31-425f-bb58-d11ec25afd53",
   "metadata": {},
   "source": [
    "#### Clickstream Data for Online Shopping\n",
    "#### Dataset: https://archive.ics.uci.edu/dataset/553/clickstream+data+for+online+shopping"
   ]
  },
  {
   "cell_type": "markdown",
   "id": "9919594c-113f-4751-9cae-9ca237a4411b",
   "metadata": {},
   "source": [
    "### Data Science Problem\n",
    "An online clothing shop for pregnant women is facing more competition from other online retailers and is looking to refine its marketing approach.  It currently does not do any targeted marketing based on categorical data or clustering, but is aware that many of its competitors have shifted to this approach.  Using clickstream data from five months in 2008, this retailer would like to better understand its customer base through data analytics, specifically classification and clustering, in order to launch a targeted marketing campaign this coming spring.  A successful campaign would lead to a growth in sales without having to increase spending on marketing."
   ]
  },
  {
   "cell_type": "code",
   "execution_count": 7,
   "id": "60cb7e3f-3291-432d-868e-796508306437",
   "metadata": {},
   "outputs": [],
   "source": [
    "#imports\n",
    "import pandas as pd\n",
    "import matplotlib.pyplot as plt\n",
    "import seaborn as sns\n",
    "import os"
   ]
  },
  {
   "cell_type": "code",
   "execution_count": 15,
   "id": "3daa3bdf-a256-4935-8543-b918748c0558",
   "metadata": {},
   "outputs": [],
   "source": [
    "#Load shopping data\n",
    "shopping_data = pd.read_csv('dataset/e-shop clothing 2008.csv', delimiter=';')"
   ]
  },
  {
   "cell_type": "code",
   "execution_count": 17,
   "id": "22aaa696-73aa-4b4b-b7e2-45166ce34b9c",
   "metadata": {},
   "outputs": [
    {
     "name": "stdout",
     "output_type": "stream",
     "text": [
      "<class 'pandas.core.frame.DataFrame'>\n",
      "RangeIndex: 165474 entries, 0 to 165473\n",
      "Data columns (total 14 columns):\n",
      " #   Column                   Non-Null Count   Dtype \n",
      "---  ------                   --------------   ----- \n",
      " 0   year                     165474 non-null  int64 \n",
      " 1   month                    165474 non-null  int64 \n",
      " 2   day                      165474 non-null  int64 \n",
      " 3   order                    165474 non-null  int64 \n",
      " 4   country                  165474 non-null  int64 \n",
      " 5   session ID               165474 non-null  int64 \n",
      " 6   page 1 (main category)   165474 non-null  int64 \n",
      " 7   page 2 (clothing model)  165474 non-null  object\n",
      " 8   colour                   165474 non-null  int64 \n",
      " 9   location                 165474 non-null  int64 \n",
      " 10  model photography        165474 non-null  int64 \n",
      " 11  price                    165474 non-null  int64 \n",
      " 12  price 2                  165474 non-null  int64 \n",
      " 13  page                     165474 non-null  int64 \n",
      "dtypes: int64(13), object(1)\n",
      "memory usage: 17.7+ MB\n"
     ]
    }
   ],
   "source": [
    "#Summary of data\n",
    "shopping_data.info()"
   ]
  },
  {
   "cell_type": "code",
   "execution_count": 21,
   "id": "7356e226-a0f5-4cd6-b652-afa7b25b1720",
   "metadata": {},
   "outputs": [
    {
     "data": {
      "text/html": [
       "<div>\n",
       "<style scoped>\n",
       "    .dataframe tbody tr th:only-of-type {\n",
       "        vertical-align: middle;\n",
       "    }\n",
       "\n",
       "    .dataframe tbody tr th {\n",
       "        vertical-align: top;\n",
       "    }\n",
       "\n",
       "    .dataframe thead th {\n",
       "        text-align: right;\n",
       "    }\n",
       "</style>\n",
       "<table border=\"1\" class=\"dataframe\">\n",
       "  <thead>\n",
       "    <tr style=\"text-align: right;\">\n",
       "      <th></th>\n",
       "      <th>year</th>\n",
       "      <th>month</th>\n",
       "      <th>day</th>\n",
       "      <th>order</th>\n",
       "      <th>country</th>\n",
       "      <th>session ID</th>\n",
       "      <th>page 1 (main category)</th>\n",
       "      <th>page 2 (clothing model)</th>\n",
       "      <th>colour</th>\n",
       "      <th>location</th>\n",
       "      <th>model photography</th>\n",
       "      <th>price</th>\n",
       "      <th>price 2</th>\n",
       "      <th>page</th>\n",
       "    </tr>\n",
       "  </thead>\n",
       "  <tbody>\n",
       "    <tr>\n",
       "      <th>0</th>\n",
       "      <td>2008</td>\n",
       "      <td>4</td>\n",
       "      <td>1</td>\n",
       "      <td>1</td>\n",
       "      <td>29</td>\n",
       "      <td>1</td>\n",
       "      <td>1</td>\n",
       "      <td>A13</td>\n",
       "      <td>1</td>\n",
       "      <td>5</td>\n",
       "      <td>1</td>\n",
       "      <td>28</td>\n",
       "      <td>2</td>\n",
       "      <td>1</td>\n",
       "    </tr>\n",
       "    <tr>\n",
       "      <th>1</th>\n",
       "      <td>2008</td>\n",
       "      <td>4</td>\n",
       "      <td>1</td>\n",
       "      <td>2</td>\n",
       "      <td>29</td>\n",
       "      <td>1</td>\n",
       "      <td>1</td>\n",
       "      <td>A16</td>\n",
       "      <td>1</td>\n",
       "      <td>6</td>\n",
       "      <td>1</td>\n",
       "      <td>33</td>\n",
       "      <td>2</td>\n",
       "      <td>1</td>\n",
       "    </tr>\n",
       "    <tr>\n",
       "      <th>2</th>\n",
       "      <td>2008</td>\n",
       "      <td>4</td>\n",
       "      <td>1</td>\n",
       "      <td>3</td>\n",
       "      <td>29</td>\n",
       "      <td>1</td>\n",
       "      <td>2</td>\n",
       "      <td>B4</td>\n",
       "      <td>10</td>\n",
       "      <td>2</td>\n",
       "      <td>1</td>\n",
       "      <td>52</td>\n",
       "      <td>1</td>\n",
       "      <td>1</td>\n",
       "    </tr>\n",
       "    <tr>\n",
       "      <th>3</th>\n",
       "      <td>2008</td>\n",
       "      <td>4</td>\n",
       "      <td>1</td>\n",
       "      <td>4</td>\n",
       "      <td>29</td>\n",
       "      <td>1</td>\n",
       "      <td>2</td>\n",
       "      <td>B17</td>\n",
       "      <td>6</td>\n",
       "      <td>6</td>\n",
       "      <td>2</td>\n",
       "      <td>38</td>\n",
       "      <td>2</td>\n",
       "      <td>1</td>\n",
       "    </tr>\n",
       "    <tr>\n",
       "      <th>4</th>\n",
       "      <td>2008</td>\n",
       "      <td>4</td>\n",
       "      <td>1</td>\n",
       "      <td>5</td>\n",
       "      <td>29</td>\n",
       "      <td>1</td>\n",
       "      <td>2</td>\n",
       "      <td>B8</td>\n",
       "      <td>4</td>\n",
       "      <td>3</td>\n",
       "      <td>2</td>\n",
       "      <td>52</td>\n",
       "      <td>1</td>\n",
       "      <td>1</td>\n",
       "    </tr>\n",
       "  </tbody>\n",
       "</table>\n",
       "</div>"
      ],
      "text/plain": [
       "   year  month  day  order  country  session ID  page 1 (main category)  \\\n",
       "0  2008      4    1      1       29           1                       1   \n",
       "1  2008      4    1      2       29           1                       1   \n",
       "2  2008      4    1      3       29           1                       2   \n",
       "3  2008      4    1      4       29           1                       2   \n",
       "4  2008      4    1      5       29           1                       2   \n",
       "\n",
       "  page 2 (clothing model)  colour  location  model photography  price  \\\n",
       "0                     A13       1         5                  1     28   \n",
       "1                     A16       1         6                  1     33   \n",
       "2                      B4      10         2                  1     52   \n",
       "3                     B17       6         6                  2     38   \n",
       "4                      B8       4         3                  2     52   \n",
       "\n",
       "   price 2  page  \n",
       "0        2     1  \n",
       "1        2     1  \n",
       "2        1     1  \n",
       "3        2     1  \n",
       "4        1     1  "
      ]
     },
     "execution_count": 21,
     "metadata": {},
     "output_type": "execute_result"
    }
   ],
   "source": [
    "#View head of table\n",
    "shopping_data.head()"
   ]
  },
  {
   "cell_type": "code",
   "execution_count": 27,
   "id": "6901740b-5eea-4d56-866c-59353b9468b1",
   "metadata": {},
   "outputs": [
    {
     "data": {
      "text/html": [
       "<div>\n",
       "<style scoped>\n",
       "    .dataframe tbody tr th:only-of-type {\n",
       "        vertical-align: middle;\n",
       "    }\n",
       "\n",
       "    .dataframe tbody tr th {\n",
       "        vertical-align: top;\n",
       "    }\n",
       "\n",
       "    .dataframe thead th {\n",
       "        text-align: right;\n",
       "    }\n",
       "</style>\n",
       "<table border=\"1\" class=\"dataframe\">\n",
       "  <thead>\n",
       "    <tr style=\"text-align: right;\">\n",
       "      <th></th>\n",
       "      <th>count</th>\n",
       "      <th>%</th>\n",
       "    </tr>\n",
       "  </thead>\n",
       "  <tbody>\n",
       "    <tr>\n",
       "      <th>year</th>\n",
       "      <td>0</td>\n",
       "      <td>0.0</td>\n",
       "    </tr>\n",
       "    <tr>\n",
       "      <th>month</th>\n",
       "      <td>0</td>\n",
       "      <td>0.0</td>\n",
       "    </tr>\n",
       "    <tr>\n",
       "      <th>day</th>\n",
       "      <td>0</td>\n",
       "      <td>0.0</td>\n",
       "    </tr>\n",
       "    <tr>\n",
       "      <th>order</th>\n",
       "      <td>0</td>\n",
       "      <td>0.0</td>\n",
       "    </tr>\n",
       "    <tr>\n",
       "      <th>country</th>\n",
       "      <td>0</td>\n",
       "      <td>0.0</td>\n",
       "    </tr>\n",
       "    <tr>\n",
       "      <th>session ID</th>\n",
       "      <td>0</td>\n",
       "      <td>0.0</td>\n",
       "    </tr>\n",
       "    <tr>\n",
       "      <th>page 1 (main category)</th>\n",
       "      <td>0</td>\n",
       "      <td>0.0</td>\n",
       "    </tr>\n",
       "    <tr>\n",
       "      <th>page 2 (clothing model)</th>\n",
       "      <td>0</td>\n",
       "      <td>0.0</td>\n",
       "    </tr>\n",
       "    <tr>\n",
       "      <th>colour</th>\n",
       "      <td>0</td>\n",
       "      <td>0.0</td>\n",
       "    </tr>\n",
       "    <tr>\n",
       "      <th>location</th>\n",
       "      <td>0</td>\n",
       "      <td>0.0</td>\n",
       "    </tr>\n",
       "    <tr>\n",
       "      <th>model photography</th>\n",
       "      <td>0</td>\n",
       "      <td>0.0</td>\n",
       "    </tr>\n",
       "    <tr>\n",
       "      <th>price</th>\n",
       "      <td>0</td>\n",
       "      <td>0.0</td>\n",
       "    </tr>\n",
       "    <tr>\n",
       "      <th>price 2</th>\n",
       "      <td>0</td>\n",
       "      <td>0.0</td>\n",
       "    </tr>\n",
       "    <tr>\n",
       "      <th>page</th>\n",
       "      <td>0</td>\n",
       "      <td>0.0</td>\n",
       "    </tr>\n",
       "  </tbody>\n",
       "</table>\n",
       "</div>"
      ],
      "text/plain": [
       "                         count    %\n",
       "year                         0  0.0\n",
       "month                        0  0.0\n",
       "day                          0  0.0\n",
       "order                        0  0.0\n",
       "country                      0  0.0\n",
       "session ID                   0  0.0\n",
       "page 1 (main category)       0  0.0\n",
       "page 2 (clothing model)      0  0.0\n",
       "colour                       0  0.0\n",
       "location                     0  0.0\n",
       "model photography            0  0.0\n",
       "price                        0  0.0\n",
       "price 2                      0  0.0\n",
       "page                         0  0.0"
      ]
     },
     "execution_count": 27,
     "metadata": {},
     "output_type": "execute_result"
    }
   ],
   "source": [
    "#Check for missing values\n",
    "missing = pd.concat([shopping_data.isnull().sum(), 100 * shopping_data.isnull().mean()], axis=1)\n",
    "missing.columns=['count', '%']\n",
    "missing.sort_values(by='count', ascending=False)"
   ]
  },
  {
   "cell_type": "markdown",
   "id": "152f9bd5-4b08-4fc1-9da8-285add7d4b5d",
   "metadata": {},
   "source": [
    "There are no missing values."
   ]
  },
  {
   "cell_type": "code",
   "execution_count": 42,
   "id": "a4c4d78a-5764-46a7-bd22-be6f47c0b2d6",
   "metadata": {},
   "outputs": [
    {
     "data": {
      "text/plain": [
       "country\n",
       "29    133963\n",
       "9      18003\n",
       "24      4091\n",
       "46      2522\n",
       "44      1385\n",
       "16       834\n",
       "21       811\n",
       "34       716\n",
       "41       684\n",
       "3        256\n",
       "27       227\n",
       "12       210\n",
       "42       170\n",
       "37       163\n",
       "10       152\n",
       "31       144\n",
       "22       144\n",
       "28       139\n",
       "38       137\n",
       "15       125\n",
       "11       115\n",
       "25        71\n",
       "2         58\n",
       "32        49\n",
       "23        46\n",
       "14        43\n",
       "39        34\n",
       "43        31\n",
       "19        29\n",
       "17        23\n",
       "36        19\n",
       "18        18\n",
       "20        10\n",
       "7          9\n",
       "47         7\n",
       "45         6\n",
       "6          5\n",
       "30         5\n",
       "5          4\n",
       "33         3\n",
       "1          3\n",
       "35         3\n",
       "13         2\n",
       "26         2\n",
       "40         1\n",
       "4          1\n",
       "8          1\n",
       "Name: count, dtype: int64"
      ]
     },
     "execution_count": 42,
     "metadata": {},
     "output_type": "execute_result"
    }
   ],
   "source": [
    "#Check for number of different countries and frequency\n",
    "shopping_data['country'].value_counts()"
   ]
  },
  {
   "cell_type": "code",
   "execution_count": 44,
   "id": "f9fdb486-f8c2-40db-900b-c6c7eebb9bec",
   "metadata": {},
   "outputs": [
    {
     "data": {
      "text/plain": [
       "session ID\n",
       "22433    195\n",
       "13846    192\n",
       "22902    185\n",
       "8201     161\n",
       "19623    142\n",
       "        ... \n",
       "9304       1\n",
       "12449      1\n",
       "4663       1\n",
       "9308       1\n",
       "19217      1\n",
       "Name: count, Length: 24026, dtype: int64"
      ]
     },
     "execution_count": 44,
     "metadata": {},
     "output_type": "execute_result"
    }
   ],
   "source": [
    "#Check for number of different session IDs and frequency\n",
    "shopping_data['session ID'].value_counts()"
   ]
  },
  {
   "cell_type": "code",
   "execution_count": 31,
   "id": "f135aaff-018d-49f3-89f6-105c64201bcb",
   "metadata": {},
   "outputs": [
    {
     "data": {
      "text/plain": [
       "page 1 (main category)\n",
       "1    49742\n",
       "4    38747\n",
       "3    38577\n",
       "2    38408\n",
       "Name: count, dtype: int64"
      ]
     },
     "execution_count": 31,
     "metadata": {},
     "output_type": "execute_result"
    }
   ],
   "source": [
    "#Check for number of different pages and frequency \n",
    "shopping_data['page 1 (main category)'].value_counts()"
   ]
  },
  {
   "cell_type": "code",
   "execution_count": 34,
   "id": "bea54940-c240-48b2-9123-aa69e0a5dc7e",
   "metadata": {},
   "outputs": [
    {
     "data": {
      "text/plain": [
       "page 2 (clothing model)\n",
       "B4     3579\n",
       "A2     3013\n",
       "A11    2789\n",
       "P1     2681\n",
       "B10    2566\n",
       "       ... \n",
       "P66      46\n",
       "P22       2\n",
       "P79       2\n",
       "P54       1\n",
       "P28       1\n",
       "Name: count, Length: 217, dtype: int64"
      ]
     },
     "execution_count": 34,
     "metadata": {},
     "output_type": "execute_result"
    }
   ],
   "source": [
    "#Check for number of different models and frequency\n",
    "shopping_data['page 2 (clothing model)'].value_counts()"
   ]
  },
  {
   "cell_type": "code",
   "execution_count": 36,
   "id": "d6e82949-20bf-4acf-8f9b-664259f80922",
   "metadata": {},
   "outputs": [
    {
     "data": {
      "text/plain": [
       "colour\n",
       "2     29764\n",
       "3     29259\n",
       "6     17476\n",
       "4     16517\n",
       "14    15939\n",
       "9     13531\n",
       "12     8830\n",
       "1      7785\n",
       "7      6876\n",
       "13     6295\n",
       "11     5292\n",
       "10     3579\n",
       "8      2664\n",
       "5      1667\n",
       "Name: count, dtype: int64"
      ]
     },
     "execution_count": 36,
     "metadata": {},
     "output_type": "execute_result"
    }
   ],
   "source": [
    "#Check for number of different colors and frequency\n",
    "shopping_data['colour'].value_counts()"
   ]
  },
  {
   "cell_type": "code",
   "execution_count": 38,
   "id": "826e4792-5282-46a9-b2f2-c22164f3dfd6",
   "metadata": {},
   "outputs": [
    {
     "data": {
      "text/plain": [
       "location\n",
       "1    34532\n",
       "2    33383\n",
       "5    27783\n",
       "4    27377\n",
       "3    21656\n",
       "6    20743\n",
       "Name: count, dtype: int64"
      ]
     },
     "execution_count": 38,
     "metadata": {},
     "output_type": "execute_result"
    }
   ],
   "source": [
    "#Check for number of locations and frequency\n",
    "shopping_data['location'].value_counts()"
   ]
  },
  {
   "cell_type": "markdown",
   "id": "0996dd85-ea37-4f5a-9c2e-5ea5cb9d16ca",
   "metadata": {},
   "source": [
    "Items appear to be located based on their popularity.  It's unclear from the data if the most popular items are first because they are the most popular or if they are only purchased most often because they are first."
   ]
  },
  {
   "cell_type": "code",
   "execution_count": 40,
   "id": "119b70d7-901c-43bc-b2ab-2894fd36cbbc",
   "metadata": {},
   "outputs": [
    {
     "data": {
      "text/plain": [
       "model photography\n",
       "1    122439\n",
       "2     43035\n",
       "Name: count, dtype: int64"
      ]
     },
     "execution_count": 40,
     "metadata": {},
     "output_type": "execute_result"
    }
   ],
   "source": [
    "#Check for number of model photography and frequency\n",
    "shopping_data['model photography'].value_counts()"
   ]
  },
  {
   "cell_type": "code",
   "execution_count": 46,
   "id": "4e5e0f4b-a95e-4c28-ba7d-ab0fccfdc852",
   "metadata": {},
   "outputs": [
    {
     "data": {
      "text/plain": [
       "country                       47\n",
       "session ID                 24026\n",
       "page 1 (main category)         4\n",
       "page 2 (clothing model)      217\n",
       "colour                        14\n",
       "location                       6\n",
       "model photography              2\n",
       "dtype: int64"
      ]
     },
     "execution_count": 46,
     "metadata": {},
     "output_type": "execute_result"
    }
   ],
   "source": [
    "#Check number of unique values in columns\n",
    "shopping_data[['country', 'session ID', 'page 1 (main category)', 'page 2 (clothing model)', 'colour', 'location', 'model photography']].nunique()"
   ]
  },
  {
   "cell_type": "code",
   "execution_count": 77,
   "id": "a98b6273-68b5-4fef-bca0-cc29d5e05667",
   "metadata": {},
   "outputs": [
    {
     "name": "stdout",
     "output_type": "stream",
     "text": [
      "Duplicates in DataFrame:\n",
      "0         False\n",
      "1         False\n",
      "2         False\n",
      "3         False\n",
      "4         False\n",
      "          ...  \n",
      "165469    False\n",
      "165470    False\n",
      "165471    False\n",
      "165472    False\n",
      "165473    False\n",
      "Length: 165474, dtype: bool\n"
     ]
    }
   ],
   "source": [
    "#Check for duplicates\n",
    "duplicates = shopping_data.duplicated()\n",
    "print(\"Duplicates in DataFrame:\")\n",
    "print(duplicates)"
   ]
  },
  {
   "cell_type": "code",
   "execution_count": 79,
   "id": "81b2a320-f25f-415f-84cd-302ba66b410f",
   "metadata": {},
   "outputs": [],
   "source": [
    "#Create date column for easier filtering during EDA\n",
    "shopping_data['date'] = pd.to_datetime(shopping_data[['year', 'month', 'day']])"
   ]
  },
  {
   "cell_type": "code",
   "execution_count": 94,
   "id": "39b5b1fa-11ca-4cc6-8f82-7db227a2f061",
   "metadata": {},
   "outputs": [
    {
     "data": {
      "text/plain": [
       "date\n",
       "2008-04-02    3456\n",
       "2008-04-01    3181\n",
       "2008-04-10    1854\n",
       "2008-04-03    1854\n",
       "2008-04-18    1833\n",
       "              ... \n",
       "2008-06-14     627\n",
       "2008-05-31     621\n",
       "2008-05-03     594\n",
       "2008-07-19     538\n",
       "2008-08-13     200\n",
       "Name: count, Length: 135, dtype: int64"
      ]
     },
     "execution_count": 94,
     "metadata": {},
     "output_type": "execute_result"
    }
   ],
   "source": [
    "#Check for nubmer of dates and frequency\n",
    "shopping_data['date'].value_counts()"
   ]
  },
  {
   "cell_type": "code",
   "execution_count": 85,
   "id": "edc8e358-7217-4ce4-811c-a15e74af8b08",
   "metadata": {},
   "outputs": [],
   "source": [
    "#Convert price column to float data type\n",
    "shopping_data['price'] = shopping_data['price'].astype(float)"
   ]
  },
  {
   "cell_type": "code",
   "execution_count": 70,
   "id": "9ed61814-173e-460c-afed-82137195e551",
   "metadata": {},
   "outputs": [
    {
     "data": {
      "image/png": "[encoded data removed]",
      "text/plain": [
       "<Figure size 1200x800 with 1 Axes>"
      ]
     },
     "metadata": {},
     "output_type": "display_data"
    }
   ],
   "source": [
    "#Plot percentage of orders by country\n",
    "fig, ax = plt.subplots(nrows = 1, ncols = 1, figsize=(12, 8))\n",
    "(shopping_data.country.value_counts(normalize=True) * 100).head(20).plot(kind='barh', ax=ax)\n",
    "ax.set_ylabel('Country')\n",
    "ax.set_xlabel('Percentage of Total Orders')\n",
    "plt.subplots_adjust(wspace=0.5)"
   ]
  },
  {
   "cell_type": "markdown",
   "id": "9d51e17b-f362-4da2-bbc0-2e866ec07df8",
   "metadata": {},
   "source": [
    "Of the 47 countries in the dataset, Country 29 has over 80% of the customers.  Country 9 has over 10%.  The remaining less than 10% is spread through the remaining 45 countries."
   ]
  },
  {
   "cell_type": "code",
   "execution_count": 87,
   "id": "d25765c5-c41a-47e3-bec6-146501409252",
   "metadata": {},
   "outputs": [
    {
     "data": {
      "image/png": "[encoded data removed]",
      "text/plain": [
       "<Figure size 1500x1000 with 16 Axes>"
      ]
     },
     "metadata": {},
     "output_type": "display_data"
    }
   ],
   "source": [
    "#Generating histograms to check for outliers\n",
    "shopping_data.hist(figsize = (15, 10))\n",
    "plt.subplots_adjust(hspace=0.5);"
   ]
  },
  {
   "cell_type": "markdown",
   "id": "ffbb044e-762d-49ee-a723-63b1421d9a5b",
   "metadata": {},
   "source": [
    "No outlier data found in dataset when examining histograms"
   ]
  },
  {
   "cell_type": "code",
   "execution_count": 92,
   "id": "6f163b01-5657-4e9f-80bc-951c6b6b95e6",
   "metadata": {},
   "outputs": [
    {
     "name": "stdout",
     "output_type": "stream",
     "text": [
      "<class 'pandas.core.frame.DataFrame'>\n",
      "RangeIndex: 165474 entries, 0 to 165473\n",
      "Data columns (total 15 columns):\n",
      " #   Column                   Non-Null Count   Dtype         \n",
      "---  ------                   --------------   -----         \n",
      " 0   year                     165474 non-null  int64         \n",
      " 1   month                    165474 non-null  int64         \n",
      " 2   day                      165474 non-null  int64         \n",
      " 3   order                    165474 non-null  int64         \n",
      " 4   country                  165474 non-null  int64         \n",
      " 5   session ID               165474 non-null  int64         \n",
      " 6   page 1 (main category)   165474 non-null  int64         \n",
      " 7   page 2 (clothing model)  165474 non-null  object        \n",
      " 8   colour                   165474 non-null  int64         \n",
      " 9   location                 165474 non-null  int64         \n",
      " 10  model photography        165474 non-null  int64         \n",
      " 11  price                    165474 non-null  float64       \n",
      " 12  price 2                  165474 non-null  int64         \n",
      " 13  page                     165474 non-null  int64         \n",
      " 14  date                     165474 non-null  datetime64[ns]\n",
      "dtypes: datetime64[ns](1), float64(1), int64(12), object(1)\n",
      "memory usage: 18.9+ MB\n"
     ]
    }
   ],
   "source": [
    "shopping_data.info()"
   ]
  },
  {
   "cell_type": "markdown",
   "id": "40d6fab4-4fc1-4a74-8398-4e1c6cb30218",
   "metadata": {},
   "source": [
    "### Summary\n",
    "After importing data and reviewing the summary, I checked for missing values, which there were none. I checked the various values in each column and the frequence of each value.  I also checked for duplicate rows, which there were none.  I created a date column using the separate year, month, and day columns for easier filtering later on in the project.  I also convered the price column from an integer to a float to prepare for future calculations.  To check for outliers, I plotted the percentage of rows by country and created histograms of each column.  These plots revealed that a majority of the purchases come from one country, but does not indicate the existence of any errant data.  The histograms also did not indicate there were any rows of data that needed to be removed."
   ]
  },
  {
   "cell_type": "code",
   "execution_count": null,
   "id": "70ec7663-5590-4053-98e1-272540bbf326",
   "metadata": {},
   "outputs": [],
   "source": []
  }
 ],
 "metadata": {
  "kernelspec": {
   "display_name": "Python [conda env:base] *",
   "language": "python",
   "name": "conda-base-py"
  },
  "language_info": {
   "codemirror_mode": {
    "name": "ipython",
    "version": 3
   },
   "file_extension": ".py",
   "mimetype": "text/x-python",
   "name": "python",
   "nbconvert_exporter": "python",
   "pygments_lexer": "ipython3",
   "version": "3.12.7"
  }
 },
 "nbformat": 4,
 "nbformat_minor": 5
}
